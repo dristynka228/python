{
 "cells": [
  {
   "cell_type": "markdown",
   "source": [
    "Цель работы: реализовать базовый анализ датасета: вывести весь датасет и описать его, вывести размерность массива, вывести названия всех колонок, вывести уникальные значения, отсортировать по определенным параметрам, удалить ненужные столбцы, заменить определенные значения в датасете, удалить дубликаты, алализ с помощью функций info и describe, провести выборку данных по строкам и столбцам с помощью loc, сохраниить новый датасет."
   ],
   "metadata": {
    "collapsed": false
   },
   "id": "62e2ac19ba4c8541"
  },
  {
   "cell_type": "code",
   "execution_count": 3,
   "outputs": [],
   "source": [
    "import pandas as pd"
   ],
   "metadata": {
    "collapsed": false,
    "ExecuteTime": {
     "end_time": "2023-12-19T11:06:14.138097400Z",
     "start_time": "2023-12-19T11:06:14.093275600Z"
    }
   },
   "id": "510e7e7f64499409"
  },
  {
   "cell_type": "markdown",
   "source": [
    "выводим датасет"
   ],
   "metadata": {
    "collapsed": false
   },
   "id": "6a38989d4a14ef69"
  },
  {
   "cell_type": "code",
   "execution_count": 6,
   "outputs": [
    {
     "data": {
      "text/plain": "    Character  Lv  Rarity Element    Weapon Main role  Ascension  Base HP  \\\n0       Amber   1       4    Pyro       Bow   Sub DPS        ATK      793   \n1       Amber  20       4    Pyro       Bow   Sub DPS        ATK     2038   \n2       Amber  20       4    Pyro       Bow   Sub DPS        ATK     2630   \n3       Amber  40       4    Pyro       Bow   Sub DPS        ATK     3940   \n4       Amber  40       4    Pyro       Bow   Sub DPS        ATK     4361   \n..        ...  ..     ...     ...       ...       ...        ...      ...   \n569    Kokomi  70       5   Hydro  Catalyst    Healer  Hydro DMG    10306   \n570    Kokomi  70       5   Hydro  Catalyst    Healer  Hydro DMG    10945   \n571    Kokomi  80       5   Hydro  Catalyst    Healer  Hydro DMG    11885   \n572    Kokomi  80       5   Hydro  Catalyst    Healer  Hydro DMG    12524   \n573    Kokomi  90       5   Hydro  Catalyst    Healer  Hydro DMG    13471   \n\n     Base ATK  Base DEF  \n0          19        50  \n1          48       129  \n2          62       167  \n3          93       250  \n4         103       277  \n..        ...       ...  \n569       179       503  \n570       190       534  \n571       207       580  \n572       218       611  \n573       234       657  \n\n[574 rows x 10 columns]",
      "text/html": "<div>\n<style scoped>\n    .dataframe tbody tr th:only-of-type {\n        vertical-align: middle;\n    }\n\n    .dataframe tbody tr th {\n        vertical-align: top;\n    }\n\n    .dataframe thead th {\n        text-align: right;\n    }\n</style>\n<table border=\"1\" class=\"dataframe\">\n  <thead>\n    <tr style=\"text-align: right;\">\n      <th></th>\n      <th>Character</th>\n      <th>Lv</th>\n      <th>Rarity</th>\n      <th>Element</th>\n      <th>Weapon</th>\n      <th>Main role</th>\n      <th>Ascension</th>\n      <th>Base HP</th>\n      <th>Base ATK</th>\n      <th>Base DEF</th>\n    </tr>\n  </thead>\n  <tbody>\n    <tr>\n      <th>0</th>\n      <td>Amber</td>\n      <td>1</td>\n      <td>4</td>\n      <td>Pyro</td>\n      <td>Bow</td>\n      <td>Sub DPS</td>\n      <td>ATK</td>\n      <td>793</td>\n      <td>19</td>\n      <td>50</td>\n    </tr>\n    <tr>\n      <th>1</th>\n      <td>Amber</td>\n      <td>20</td>\n      <td>4</td>\n      <td>Pyro</td>\n      <td>Bow</td>\n      <td>Sub DPS</td>\n      <td>ATK</td>\n      <td>2038</td>\n      <td>48</td>\n      <td>129</td>\n    </tr>\n    <tr>\n      <th>2</th>\n      <td>Amber</td>\n      <td>20</td>\n      <td>4</td>\n      <td>Pyro</td>\n      <td>Bow</td>\n      <td>Sub DPS</td>\n      <td>ATK</td>\n      <td>2630</td>\n      <td>62</td>\n      <td>167</td>\n    </tr>\n    <tr>\n      <th>3</th>\n      <td>Amber</td>\n      <td>40</td>\n      <td>4</td>\n      <td>Pyro</td>\n      <td>Bow</td>\n      <td>Sub DPS</td>\n      <td>ATK</td>\n      <td>3940</td>\n      <td>93</td>\n      <td>250</td>\n    </tr>\n    <tr>\n      <th>4</th>\n      <td>Amber</td>\n      <td>40</td>\n      <td>4</td>\n      <td>Pyro</td>\n      <td>Bow</td>\n      <td>Sub DPS</td>\n      <td>ATK</td>\n      <td>4361</td>\n      <td>103</td>\n      <td>277</td>\n    </tr>\n    <tr>\n      <th>...</th>\n      <td>...</td>\n      <td>...</td>\n      <td>...</td>\n      <td>...</td>\n      <td>...</td>\n      <td>...</td>\n      <td>...</td>\n      <td>...</td>\n      <td>...</td>\n      <td>...</td>\n    </tr>\n    <tr>\n      <th>569</th>\n      <td>Kokomi</td>\n      <td>70</td>\n      <td>5</td>\n      <td>Hydro</td>\n      <td>Catalyst</td>\n      <td>Healer</td>\n      <td>Hydro DMG</td>\n      <td>10306</td>\n      <td>179</td>\n      <td>503</td>\n    </tr>\n    <tr>\n      <th>570</th>\n      <td>Kokomi</td>\n      <td>70</td>\n      <td>5</td>\n      <td>Hydro</td>\n      <td>Catalyst</td>\n      <td>Healer</td>\n      <td>Hydro DMG</td>\n      <td>10945</td>\n      <td>190</td>\n      <td>534</td>\n    </tr>\n    <tr>\n      <th>571</th>\n      <td>Kokomi</td>\n      <td>80</td>\n      <td>5</td>\n      <td>Hydro</td>\n      <td>Catalyst</td>\n      <td>Healer</td>\n      <td>Hydro DMG</td>\n      <td>11885</td>\n      <td>207</td>\n      <td>580</td>\n    </tr>\n    <tr>\n      <th>572</th>\n      <td>Kokomi</td>\n      <td>80</td>\n      <td>5</td>\n      <td>Hydro</td>\n      <td>Catalyst</td>\n      <td>Healer</td>\n      <td>Hydro DMG</td>\n      <td>12524</td>\n      <td>218</td>\n      <td>611</td>\n    </tr>\n    <tr>\n      <th>573</th>\n      <td>Kokomi</td>\n      <td>90</td>\n      <td>5</td>\n      <td>Hydro</td>\n      <td>Catalyst</td>\n      <td>Healer</td>\n      <td>Hydro DMG</td>\n      <td>13471</td>\n      <td>234</td>\n      <td>657</td>\n    </tr>\n  </tbody>\n</table>\n<p>574 rows × 10 columns</p>\n</div>"
     },
     "execution_count": 6,
     "metadata": {},
     "output_type": "execute_result"
    }
   ],
   "source": [
    "genshin = pd.read_csv(r\"C:\\Users\\User\\Downloads\\archive (1)\\Genshin_Impact_All_Character_Stat.csv\")\n",
    "\n",
    "genshin"
   ],
   "metadata": {
    "collapsed": false,
    "ExecuteTime": {
     "end_time": "2023-12-19T11:10:09.005799900Z",
     "start_time": "2023-12-19T11:10:08.876777700Z"
    }
   },
   "id": "46fb6ce9e008aa17"
  },
  {
   "cell_type": "markdown",
   "source": [
    "вывелся весь датасет"
   ],
   "metadata": {
    "collapsed": false
   },
   "id": "b0aeefa71c12691d"
  },
  {
   "cell_type": "markdown",
   "source": [
    "выводим размерность датасета"
   ],
   "metadata": {
    "collapsed": false
   },
   "id": "dd5a6050b87f0f98"
  },
  {
   "cell_type": "code",
   "execution_count": 7,
   "outputs": [
    {
     "data": {
      "text/plain": "(574, 10)"
     },
     "execution_count": 7,
     "metadata": {},
     "output_type": "execute_result"
    }
   ],
   "source": [
    "genshin.shape"
   ],
   "metadata": {
    "collapsed": false,
    "ExecuteTime": {
     "end_time": "2023-12-19T11:18:44.284113300Z",
     "start_time": "2023-12-19T11:18:44.202466400Z"
    }
   },
   "id": "c4fff2866a20e23b"
  },
  {
   "cell_type": "markdown",
   "source": [
    "вывелся размер датасета, 574 - длина, 10 - ширина"
   ],
   "metadata": {
    "collapsed": false
   },
   "id": "668710cf864933fd"
  },
  {
   "cell_type": "markdown",
   "source": [
    "выводим наименования колонок"
   ],
   "metadata": {
    "collapsed": false
   },
   "id": "3f5c526487f2da27"
  },
  {
   "cell_type": "code",
   "execution_count": 8,
   "outputs": [
    {
     "data": {
      "text/plain": "Index(['Character', 'Lv', 'Rarity', 'Element', 'Weapon', 'Main role',\n       'Ascension', 'Base HP', 'Base ATK', 'Base DEF'],\n      dtype='object')"
     },
     "execution_count": 8,
     "metadata": {},
     "output_type": "execute_result"
    }
   ],
   "source": [
    "genshin.columns"
   ],
   "metadata": {
    "collapsed": false,
    "ExecuteTime": {
     "end_time": "2023-12-19T11:19:17.607700100Z",
     "start_time": "2023-12-19T11:19:17.548447Z"
    }
   },
   "id": "931aef455626b96c"
  },
  {
   "cell_type": "markdown",
   "source": [
    "получилось десять названий всех колонок"
   ],
   "metadata": {
    "collapsed": false
   },
   "id": "fcb6157610fe2fb7"
  },
  {
   "cell_type": "markdown",
   "source": [
    "выводим уникальные значения колонок"
   ],
   "metadata": {
    "collapsed": false
   },
   "id": "b8bfa95316c76000"
  },
  {
   "cell_type": "code",
   "execution_count": 10,
   "outputs": [
    {
     "name": "stdout",
     "output_type": "stream",
     "text": [
      "Character: ['Amber' 'Barbara' 'Beidou' 'Bennett' 'Chongyun' 'Diluc' 'Fischl' 'Jean'\n",
      " 'Kaeya' 'Keqing' 'Klee' 'Lisa' 'Mona' 'Ningguang' 'Noelle' 'Qiqi' 'Razor'\n",
      " 'Sucrose' 'Venti' 'Xiangling' 'Xiao' 'Xingqiu' 'Tartaglia' 'Zhongli'\n",
      " 'Diona' 'Xinyan' 'Ganyu' 'Albedo' 'Rosaria' 'Ayaka']\n",
      "Lv: [ 1 20 40 50 60 70 80 90]\n",
      "Rarity: [4 5]\n",
      "Element: ['Pyro' 'Hydro' 'Electro' 'Cryo' 'Anemo' 'Geo' 'All']\n",
      "Weapon: ['Bow' 'Catalyst' 'Claymore' 'Sword' 'Polearm']\n",
      "Main role: ['Sub DPS' 'Healer' 'DPS' 'Support']\n",
      "Ascension: ['ATK' 'HP' 'Electro DMG' 'Energy Recharge' 'CRIT Rate' 'Healing Bonus'\n",
      " 'CRIT DMG' 'Pyro DMG' 'Elemental Mastery' 'Geo DMG' 'DEF' 'Physical DMG'\n",
      " 'Anemo DMG' 'Hydro DMG' 'Cryo DMG']\n",
      "Base HP: [ 793 2038 2630 3940 4361 5016 5578 6233 6654 7309 7730 8385 8806 9461\n",
      "  821 2108 2721 4076 4512 5189 5770 6448 6884 7561 7996 8674 9110 9787\n",
      " 1094 2811]\n",
      "Base ATK: [ 19  48  62  93 103 118 131 147 157 172 182 198 208 223  13  34  44  66\n",
      "  73  84  94 105 112 123 130 141 148 159  63 104]\n",
      "Base DEF: [ 50 129 167 250 277 318 354 396 422 464 491 532 559 601  56 144 186 279\n",
      " 308 355 394 441 470 517 546 593 623 669  54 140]\n"
     ]
    }
   ],
   "source": [
    "for column in genshin.columns:\n",
    "    unique_values = genshin[column].unique()\n",
    "    print(f'{column}: {unique_values[:30]}')\n"
   ],
   "metadata": {
    "collapsed": false,
    "ExecuteTime": {
     "end_time": "2023-12-19T11:20:38.691521Z",
     "start_time": "2023-12-19T11:20:38.633536700Z"
    }
   },
   "id": "a11ce1fb05a11c29"
  },
  {
   "cell_type": "markdown",
   "source": [
    "вывелись все уникальные значения из всех колонок"
   ],
   "metadata": {
    "collapsed": false
   },
   "id": "4aa4cb4284c09ab9"
  },
  {
   "cell_type": "markdown",
   "source": [
    "сортируем персонажей по редкости и оружию "
   ],
   "metadata": {
    "collapsed": false
   },
   "id": "563e13abd7129018"
  },
  {
   "cell_type": "code",
   "execution_count": 11,
   "outputs": [],
   "source": [
    "sorted_genshin = genshin.sort_values(by=[\"Rarity\", \"Weapon\"])"
   ],
   "metadata": {
    "collapsed": false,
    "ExecuteTime": {
     "end_time": "2023-12-19T11:23:21.116564900Z",
     "start_time": "2023-12-19T11:23:21.055834300Z"
    }
   },
   "id": "2aa9bd5ebd7bef6a"
  },
  {
   "cell_type": "markdown",
   "source": [
    "выводим отсортированный датасет"
   ],
   "metadata": {
    "collapsed": false
   },
   "id": "e71865940139f5e7"
  },
  {
   "cell_type": "code",
   "execution_count": 12,
   "outputs": [
    {
     "name": "stdout",
     "output_type": "stream",
     "text": [
      "    Character  Lv  Rarity Element Weapon Main role Ascension  Base HP  \\\n",
      "0       Amber   1       4    Pyro    Bow   Sub DPS       ATK      793   \n",
      "1       Amber  20       4    Pyro    Bow   Sub DPS       ATK     2038   \n",
      "2       Amber  20       4    Pyro    Bow   Sub DPS       ATK     2630   \n",
      "3       Amber  40       4    Pyro    Bow   Sub DPS       ATK     3940   \n",
      "4       Amber  40       4    Pyro    Bow   Sub DPS       ATK     4361   \n",
      "..        ...  ..     ...     ...    ...       ...       ...      ...   \n",
      "513  Traveler  70       5     All  Sword   Support       ATK     8401   \n",
      "514  Traveler  70       5     All  Sword   Support       ATK     8885   \n",
      "515  Traveler  80       5     All  Sword   Support       ATK     9638   \n",
      "516  Traveler  80       5     All  Sword   Support       ATK    10122   \n",
      "517  Traveler  90       5     All  Sword   Support       ATK    10875   \n",
      "\n",
      "     Base ATK  Base DEF  \n",
      "0          19        50  \n",
      "1          48       129  \n",
      "2          62       167  \n",
      "3          93       250  \n",
      "4         103       277  \n",
      "..        ...       ...  \n",
      "513       164       527  \n",
      "514       174       558  \n",
      "515       188       605  \n",
      "516       198       635  \n",
      "517       212       683  \n",
      "\n",
      "[574 rows x 10 columns]\n"
     ]
    }
   ],
   "source": [
    "print(sorted_genshin)"
   ],
   "metadata": {
    "collapsed": false,
    "ExecuteTime": {
     "end_time": "2023-12-19T11:24:00.344756700Z",
     "start_time": "2023-12-19T11:24:00.265029Z"
    }
   },
   "id": "ceac86c905bab4ba"
  },
  {
   "cell_type": "markdown",
   "source": [
    "вывелся датасет, рассортированный по редкости и оружию"
   ],
   "metadata": {
    "collapsed": false
   },
   "id": "7e0aa1eb46bfa909"
  },
  {
   "cell_type": "markdown",
   "source": [
    "удаляем ненужный столбец Main role"
   ],
   "metadata": {
    "collapsed": false
   },
   "id": "9ef4e32de1f155e4"
  },
  {
   "cell_type": "code",
   "execution_count": 13,
   "outputs": [],
   "source": [
    "genshin = genshin.drop([\"Main role\"], axis=1)"
   ],
   "metadata": {
    "collapsed": false,
    "ExecuteTime": {
     "end_time": "2023-12-19T11:27:25.156187500Z",
     "start_time": "2023-12-19T11:27:25.095451700Z"
    }
   },
   "id": "ccf9f668de4c6674"
  },
  {
   "cell_type": "markdown",
   "source": [
    "выводим датасет после удаления столбца"
   ],
   "metadata": {
    "collapsed": false
   },
   "id": "f39ec6708804bda2"
  },
  {
   "cell_type": "code",
   "execution_count": 14,
   "outputs": [
    {
     "name": "stdout",
     "output_type": "stream",
     "text": [
      "    Character  Lv  Rarity Element    Weapon  Ascension  Base HP  Base ATK  \\\n",
      "0       Amber   1       4    Pyro       Bow        ATK      793        19   \n",
      "1       Amber  20       4    Pyro       Bow        ATK     2038        48   \n",
      "2       Amber  20       4    Pyro       Bow        ATK     2630        62   \n",
      "3       Amber  40       4    Pyro       Bow        ATK     3940        93   \n",
      "4       Amber  40       4    Pyro       Bow        ATK     4361       103   \n",
      "..        ...  ..     ...     ...       ...        ...      ...       ...   \n",
      "569    Kokomi  70       5   Hydro  Catalyst  Hydro DMG    10306       179   \n",
      "570    Kokomi  70       5   Hydro  Catalyst  Hydro DMG    10945       190   \n",
      "571    Kokomi  80       5   Hydro  Catalyst  Hydro DMG    11885       207   \n",
      "572    Kokomi  80       5   Hydro  Catalyst  Hydro DMG    12524       218   \n",
      "573    Kokomi  90       5   Hydro  Catalyst  Hydro DMG    13471       234   \n",
      "\n",
      "     Base DEF  \n",
      "0          50  \n",
      "1         129  \n",
      "2         167  \n",
      "3         250  \n",
      "4         277  \n",
      "..        ...  \n",
      "569       503  \n",
      "570       534  \n",
      "571       580  \n",
      "572       611  \n",
      "573       657  \n",
      "\n",
      "[574 rows x 9 columns]\n"
     ]
    }
   ],
   "source": [
    "print(genshin)"
   ],
   "metadata": {
    "collapsed": false,
    "ExecuteTime": {
     "end_time": "2023-12-19T11:27:37.712680400Z",
     "start_time": "2023-12-19T11:27:37.661619600Z"
    }
   },
   "id": "cd17e4b8804697d6"
  },
  {
   "cell_type": "markdown",
   "source": [
    "вывелся датасет без колонки Main role"
   ],
   "metadata": {
    "collapsed": false
   },
   "id": "4de84b0a065f783f"
  },
  {
   "cell_type": "markdown",
   "source": [
    "заменяем значения элемента piro на fire"
   ],
   "metadata": {
    "collapsed": false
   },
   "id": "cbc50bac2bc394c5"
  },
  {
   "cell_type": "code",
   "execution_count": 15,
   "outputs": [],
   "source": [
    "genshin['Element'] = genshin['Element'].replace('Pyro', 'Fire')"
   ],
   "metadata": {
    "collapsed": false,
    "ExecuteTime": {
     "end_time": "2023-12-19T11:29:00.699933800Z",
     "start_time": "2023-12-19T11:29:00.641095Z"
    }
   },
   "id": "d7ff2243d387acd0"
  },
  {
   "cell_type": "markdown",
   "source": [
    "выводим измененный датасет"
   ],
   "metadata": {
    "collapsed": false
   },
   "id": "7f9c78e1762947af"
  },
  {
   "cell_type": "code",
   "execution_count": 16,
   "outputs": [
    {
     "name": "stdout",
     "output_type": "stream",
     "text": [
      "    Character  Lv  Rarity Element    Weapon  Ascension  Base HP  Base ATK  \\\n",
      "0       Amber   1       4    Fire       Bow        ATK      793        19   \n",
      "1       Amber  20       4    Fire       Bow        ATK     2038        48   \n",
      "2       Amber  20       4    Fire       Bow        ATK     2630        62   \n",
      "3       Amber  40       4    Fire       Bow        ATK     3940        93   \n",
      "4       Amber  40       4    Fire       Bow        ATK     4361       103   \n",
      "..        ...  ..     ...     ...       ...        ...      ...       ...   \n",
      "569    Kokomi  70       5   Hydro  Catalyst  Hydro DMG    10306       179   \n",
      "570    Kokomi  70       5   Hydro  Catalyst  Hydro DMG    10945       190   \n",
      "571    Kokomi  80       5   Hydro  Catalyst  Hydro DMG    11885       207   \n",
      "572    Kokomi  80       5   Hydro  Catalyst  Hydro DMG    12524       218   \n",
      "573    Kokomi  90       5   Hydro  Catalyst  Hydro DMG    13471       234   \n",
      "\n",
      "     Base DEF  \n",
      "0          50  \n",
      "1         129  \n",
      "2         167  \n",
      "3         250  \n",
      "4         277  \n",
      "..        ...  \n",
      "569       503  \n",
      "570       534  \n",
      "571       580  \n",
      "572       611  \n",
      "573       657  \n",
      "\n",
      "[574 rows x 9 columns]\n"
     ]
    }
   ],
   "source": [
    "print(genshin)"
   ],
   "metadata": {
    "collapsed": false,
    "ExecuteTime": {
     "end_time": "2023-12-19T11:30:22.754832900Z",
     "start_time": "2023-12-19T11:30:22.626654800Z"
    }
   },
   "id": "546eccc490a3bb70"
  },
  {
   "cell_type": "markdown",
   "source": [
    "вывелся датасет, где элемент piro быз заменен на fire"
   ],
   "metadata": {
    "collapsed": false
   },
   "id": "de9ff61a43b71322"
  },
  {
   "cell_type": "markdown",
   "source": [
    "удаляем дубликаты"
   ],
   "metadata": {
    "collapsed": false
   },
   "id": "bb76da90af6a2241"
  },
  {
   "cell_type": "code",
   "execution_count": 17,
   "outputs": [],
   "source": [
    "genshin.drop_duplicates(inplace=True)"
   ],
   "metadata": {
    "collapsed": false,
    "ExecuteTime": {
     "end_time": "2023-12-19T11:32:24.674818300Z",
     "start_time": "2023-12-19T11:32:24.628206800Z"
    }
   },
   "id": "a5f4edae4fa4dd0f"
  },
  {
   "cell_type": "markdown",
   "source": [
    "выводим датасет"
   ],
   "metadata": {
    "collapsed": false
   },
   "id": "2368959b521eb7bb"
  },
  {
   "cell_type": "code",
   "execution_count": 18,
   "outputs": [
    {
     "name": "stdout",
     "output_type": "stream",
     "text": [
      "    Character  Lv  Rarity Element    Weapon  Ascension  Base HP  Base ATK  \\\n",
      "0       Amber   1       4    Fire       Bow        ATK      793        19   \n",
      "1       Amber  20       4    Fire       Bow        ATK     2038        48   \n",
      "2       Amber  20       4    Fire       Bow        ATK     2630        62   \n",
      "3       Amber  40       4    Fire       Bow        ATK     3940        93   \n",
      "4       Amber  40       4    Fire       Bow        ATK     4361       103   \n",
      "..        ...  ..     ...     ...       ...        ...      ...       ...   \n",
      "569    Kokomi  70       5   Hydro  Catalyst  Hydro DMG    10306       179   \n",
      "570    Kokomi  70       5   Hydro  Catalyst  Hydro DMG    10945       190   \n",
      "571    Kokomi  80       5   Hydro  Catalyst  Hydro DMG    11885       207   \n",
      "572    Kokomi  80       5   Hydro  Catalyst  Hydro DMG    12524       218   \n",
      "573    Kokomi  90       5   Hydro  Catalyst  Hydro DMG    13471       234   \n",
      "\n",
      "     Base DEF  \n",
      "0          50  \n",
      "1         129  \n",
      "2         167  \n",
      "3         250  \n",
      "4         277  \n",
      "..        ...  \n",
      "569       503  \n",
      "570       534  \n",
      "571       580  \n",
      "572       611  \n",
      "573       657  \n",
      "\n",
      "[574 rows x 9 columns]\n"
     ]
    }
   ],
   "source": [
    "print(genshin)"
   ],
   "metadata": {
    "collapsed": false,
    "ExecuteTime": {
     "end_time": "2023-12-19T11:32:56.681671700Z",
     "start_time": "2023-12-19T11:32:56.648468Z"
    }
   },
   "id": "c170963defe49fa"
  },
  {
   "cell_type": "markdown",
   "source": [
    "вывелся датасет без дубликатов"
   ],
   "metadata": {
    "collapsed": false
   },
   "id": "6fa584e6f1444be6"
  },
  {
   "cell_type": "markdown",
   "source": [
    "анализ с помощью info"
   ],
   "metadata": {
    "collapsed": false
   },
   "id": "9a67fce4f698ee14"
  },
  {
   "cell_type": "code",
   "execution_count": 19,
   "outputs": [
    {
     "name": "stdout",
     "output_type": "stream",
     "text": [
      "<class 'pandas.core.frame.DataFrame'>\n",
      "RangeIndex: 574 entries, 0 to 573\n",
      "Data columns (total 9 columns):\n",
      " #   Column     Non-Null Count  Dtype \n",
      "---  ------     --------------  ----- \n",
      " 0   Character  574 non-null    object\n",
      " 1   Lv         574 non-null    int64 \n",
      " 2   Rarity     574 non-null    int64 \n",
      " 3   Element    574 non-null    object\n",
      " 4   Weapon     574 non-null    object\n",
      " 5   Ascension  574 non-null    object\n",
      " 6   Base HP    574 non-null    int64 \n",
      " 7   Base ATK   574 non-null    int64 \n",
      " 8   Base DEF   574 non-null    int64 \n",
      "dtypes: int64(5), object(4)\n",
      "memory usage: 40.5+ KB\n"
     ]
    }
   ],
   "source": [
    "genshin.info()"
   ],
   "metadata": {
    "collapsed": false,
    "ExecuteTime": {
     "end_time": "2023-12-19T11:33:39.489059200Z",
     "start_time": "2023-12-19T11:33:39.389720Z"
    }
   },
   "id": "cf2ffc0fe600abe3"
  },
  {
   "cell_type": "markdown",
   "source": [
    "info выводит общую информацию о датасете, включая количество непустых значений, типы данных каждого столбца и потребление памяти."
   ],
   "metadata": {
    "collapsed": false
   },
   "id": "2eccdd00091f459c"
  },
  {
   "cell_type": "markdown",
   "source": [
    "анализ с помощью describe"
   ],
   "metadata": {
    "collapsed": false
   },
   "id": "3dea562c810fadff"
  },
  {
   "cell_type": "code",
   "execution_count": 20,
   "outputs": [
    {
     "data": {
      "text/plain": "               Lv      Rarity       Base HP    Base ATK    Base DEF\ncount  574.000000  574.000000    574.000000  574.000000  574.000000\nmean    52.214286    4.512195   6860.010453  148.527875  423.303136\nstd     24.996567    0.500287   3325.201592   77.011853  202.560931\nmin      1.000000    4.000000    763.000000    8.000000   48.000000\n25%     40.000000    4.000000   4405.000000   91.250000  276.000000\n50%     55.000000    5.000000   6942.500000  148.000000  431.000000\n75%     70.000000    5.000000   9280.000000  200.750000  575.000000\nmax     90.000000    5.000000  15552.000000  349.000000  922.000000",
      "text/html": "<div>\n<style scoped>\n    .dataframe tbody tr th:only-of-type {\n        vertical-align: middle;\n    }\n\n    .dataframe tbody tr th {\n        vertical-align: top;\n    }\n\n    .dataframe thead th {\n        text-align: right;\n    }\n</style>\n<table border=\"1\" class=\"dataframe\">\n  <thead>\n    <tr style=\"text-align: right;\">\n      <th></th>\n      <th>Lv</th>\n      <th>Rarity</th>\n      <th>Base HP</th>\n      <th>Base ATK</th>\n      <th>Base DEF</th>\n    </tr>\n  </thead>\n  <tbody>\n    <tr>\n      <th>count</th>\n      <td>574.000000</td>\n      <td>574.000000</td>\n      <td>574.000000</td>\n      <td>574.000000</td>\n      <td>574.000000</td>\n    </tr>\n    <tr>\n      <th>mean</th>\n      <td>52.214286</td>\n      <td>4.512195</td>\n      <td>6860.010453</td>\n      <td>148.527875</td>\n      <td>423.303136</td>\n    </tr>\n    <tr>\n      <th>std</th>\n      <td>24.996567</td>\n      <td>0.500287</td>\n      <td>3325.201592</td>\n      <td>77.011853</td>\n      <td>202.560931</td>\n    </tr>\n    <tr>\n      <th>min</th>\n      <td>1.000000</td>\n      <td>4.000000</td>\n      <td>763.000000</td>\n      <td>8.000000</td>\n      <td>48.000000</td>\n    </tr>\n    <tr>\n      <th>25%</th>\n      <td>40.000000</td>\n      <td>4.000000</td>\n      <td>4405.000000</td>\n      <td>91.250000</td>\n      <td>276.000000</td>\n    </tr>\n    <tr>\n      <th>50%</th>\n      <td>55.000000</td>\n      <td>5.000000</td>\n      <td>6942.500000</td>\n      <td>148.000000</td>\n      <td>431.000000</td>\n    </tr>\n    <tr>\n      <th>75%</th>\n      <td>70.000000</td>\n      <td>5.000000</td>\n      <td>9280.000000</td>\n      <td>200.750000</td>\n      <td>575.000000</td>\n    </tr>\n    <tr>\n      <th>max</th>\n      <td>90.000000</td>\n      <td>5.000000</td>\n      <td>15552.000000</td>\n      <td>349.000000</td>\n      <td>922.000000</td>\n    </tr>\n  </tbody>\n</table>\n</div>"
     },
     "execution_count": 20,
     "metadata": {},
     "output_type": "execute_result"
    }
   ],
   "source": [
    "genshin.describe()"
   ],
   "metadata": {
    "collapsed": false,
    "ExecuteTime": {
     "end_time": "2023-12-19T11:34:25.063032700Z",
     "start_time": "2023-12-19T11:34:24.941675800Z"
    }
   },
   "id": "43c1accc126a82ec"
  },
  {
   "cell_type": "markdown",
   "source": [
    "describe вычисляет основные статистические показатели для каждого числового столбца в датасете, такие как среднее значение, стандартное отклонение, минимальное и максимальное значения, медиану и квартили."
   ],
   "metadata": {
    "collapsed": false
   },
   "id": "a0609f057f47cb0f"
  },
  {
   "cell_type": "markdown",
   "source": [
    "с помощью  loc выберем строки, где значение в столбце 'Element' равно 'Fire', и только столбцы 'Character' и 'Lv"
   ],
   "metadata": {
    "collapsed": false
   },
   "id": "9d93a8f923fe067a"
  },
  {
   "cell_type": "code",
   "execution_count": 21,
   "outputs": [],
   "source": [
    "selected_genshin = genshin.loc[genshin['Element'] == 'Fire', ['Character', 'Lv']]"
   ],
   "metadata": {
    "collapsed": false,
    "ExecuteTime": {
     "end_time": "2023-12-19T11:36:44.127055200Z",
     "start_time": "2023-12-19T11:36:44.018461900Z"
    }
   },
   "id": "e7805dde060d2c74"
  },
  {
   "cell_type": "markdown",
   "source": [
    "выводим датасет"
   ],
   "metadata": {
    "collapsed": false
   },
   "id": "4a8383dce53a3876"
  },
  {
   "cell_type": "code",
   "execution_count": 23,
   "outputs": [
    {
     "name": "stdout",
     "output_type": "stream",
     "text": [
      "    Character  Lv\n",
      "0       Amber   1\n",
      "1       Amber  20\n",
      "2       Amber  20\n",
      "3       Amber  40\n",
      "4       Amber  40\n",
      "..        ...  ..\n",
      "485   Yoimiya  70\n",
      "486   Yoimiya  70\n",
      "487   Yoimiya  80\n",
      "488   Yoimiya  80\n",
      "489   Yoimiya  90\n",
      "\n",
      "[126 rows x 2 columns]\n"
     ]
    }
   ],
   "source": [
    "print(selected_genshin)"
   ],
   "metadata": {
    "collapsed": false,
    "ExecuteTime": {
     "end_time": "2023-12-19T11:38:26.054314900Z",
     "start_time": "2023-12-19T11:38:25.983622200Z"
    }
   },
   "id": "331fecbc2253426b"
  },
  {
   "cell_type": "markdown",
   "source": [
    "вывелся датасет, который выводит только пиро персонажей"
   ],
   "metadata": {
    "collapsed": false
   },
   "id": "44e691cf5922280f"
  },
  {
   "cell_type": "markdown",
   "source": [
    "сохраняем датасет"
   ],
   "metadata": {
    "collapsed": false
   },
   "id": "edb68739225efdab"
  },
  {
   "cell_type": "code",
   "execution_count": 24,
   "outputs": [],
   "source": [
    "selected_genshin.to_csv(\"selected_genshin.csv\", index=False)"
   ],
   "metadata": {
    "collapsed": false,
    "ExecuteTime": {
     "end_time": "2023-12-19T11:40:55.446925200Z",
     "start_time": "2023-12-19T11:40:55.359079300Z"
    }
   },
   "id": "ac88225b3ecfff28"
  },
  {
   "cell_type": "markdown",
   "source": [
    "Вывод:в ходе практической работы удалось реализовать базовый анализ датасета: вывести весь датасет и описать его, вывести размерноть массива, наименование всех колонок, уникальные значения отсортировать по определенным параметрам, удалить ненужные столбцы, заменить определенные значения в датасете, удалить дубликаты, провести анализ с помощью функций info и describe, провести выборку данных по строкам и столбцам с помощью loc, сохранить новый датасет."
   ],
   "metadata": {
    "collapsed": false
   },
   "id": "e62469f38098c04c"
  },
  {
   "cell_type": "code",
   "execution_count": null,
   "outputs": [],
   "source": [],
   "metadata": {
    "collapsed": false
   },
   "id": "82c70b3ed560a9ce"
  }
 ],
 "metadata": {
  "kernelspec": {
   "display_name": "Python 3",
   "language": "python",
   "name": "python3"
  },
  "language_info": {
   "codemirror_mode": {
    "name": "ipython",
    "version": 2
   },
   "file_extension": ".py",
   "mimetype": "text/x-python",
   "name": "python",
   "nbconvert_exporter": "python",
   "pygments_lexer": "ipython2",
   "version": "2.7.6"
  }
 },
 "nbformat": 4,
 "nbformat_minor": 5
}
